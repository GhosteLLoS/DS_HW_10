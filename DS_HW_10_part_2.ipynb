{
 "cells": [
  {
   "cell_type": "code",
   "execution_count": null,
   "id": "240112b8-9f81-4e5c-9e84-3f8a32bfe969",
   "metadata": {},
   "outputs": [],
   "source": [
    "Part №2"
   ]
  },
  {
   "cell_type": "code",
   "execution_count": 2,
   "id": "b55056f9-2245-4864-b1d0-36302f016aa3",
   "metadata": {},
   "outputs": [],
   "source": [
    "import tensorflow as tf\n",
    "from tensorflow.keras.datasets import fashion_mnist\n",
    "from tensorflow.keras.utils import to_categorical\n",
    "from tensorflow.keras.models import Sequential\n",
    "from tensorflow.keras.optimizers import Adam\n",
    "from tensorflow.keras.applications.vgg16 import VGG16\n",
    "from tensorflow.keras.layers import Input, Flatten, Dense\n",
    "from tensorflow.keras.models import Model\n",
    "\n",
    "(x_train, y_train), (x_test, y_test) = fashion_mnist.load_data()\n",
    "\n",
    "x_train = x_train.astype('float32') / 255.0\n",
    "x_test = x_test.astype('float32') / 255.0\n",
    "\n",
    "x_train = x_train.reshape(x_train.shape[0], 28, 28, 1)\n",
    "x_test = x_test.reshape(x_test.shape[0], 28, 28, 1)\n",
    "\n",
    "y_train = to_categorical(y_train, num_classes=10)\n",
    "y_test = to_categorical(y_test, num_classes=10)"
   ]
  },
  {
   "cell_type": "code",
   "execution_count": 3,
   "id": "2e744519-2a45-40ab-b6d4-c10b0c329b65",
   "metadata": {},
   "outputs": [
    {
     "name": "stdout",
     "output_type": "stream",
     "text": [
      "WARNING:tensorflow:From C:\\Users\\Aliaksey\\AppData\\Local\\Programs\\Python\\Python311\\Lib\\site-packages\\keras\\src\\backend.py:1398: The name tf.executing_eagerly_outside_functions is deprecated. Please use tf.compat.v1.executing_eagerly_outside_functions instead.\n",
      "\n",
      "WARNING:tensorflow:From C:\\Users\\Aliaksey\\AppData\\Local\\Programs\\Python\\Python311\\Lib\\site-packages\\keras\\src\\layers\\pooling\\max_pooling2d.py:161: The name tf.nn.max_pool is deprecated. Please use tf.nn.max_pool2d instead.\n",
      "\n",
      "Downloading data from https://storage.googleapis.com/tensorflow/keras-applications/vgg16/vgg16_weights_tf_dim_ordering_tf_kernels_notop.h5\n",
      "58889256/58889256 [==============================] - 4s 0us/step\n"
     ]
    },
    {
     "name": "stderr",
     "output_type": "stream",
     "text": [
      "WARNING:absl:`lr` is deprecated in Keras optimizer, please use `learning_rate` or use the legacy optimizer, e.g.,tf.keras.optimizers.legacy.Adam.\n"
     ]
    }
   ],
   "source": [
    "# Завантаження згорткової основи VGG16\n",
    "base_model = VGG16(weights='imagenet', include_top=False, input_shape=(32, 32, 3))\n",
    "base_model.trainable = False\n",
    "\n",
    "x = Flatten()(base_model.output)\n",
    "x = Dense(256, activation='relu')(x)\n",
    "x = Dense(10, activation='softmax')(x)\n",
    "\n",
    "# Створення моделі\n",
    "model = Model(inputs=base_model.input, outputs=x)\n",
    "\n",
    "# Компіляція моделі\n",
    "model.compile(optimizer=Adam(lr=0.001), loss='categorical_crossentropy', metrics=['accuracy'])"
   ]
  },
  {
   "cell_type": "code",
   "execution_count": 4,
   "id": "1c4cc71b-0ccf-4e86-b2a7-70818c0c1cbe",
   "metadata": {},
   "outputs": [
    {
     "name": "stdout",
     "output_type": "stream",
     "text": [
      "Epoch 1/10\n",
      "WARNING:tensorflow:From C:\\Users\\Aliaksey\\AppData\\Local\\Programs\\Python\\Python311\\Lib\\site-packages\\keras\\src\\utils\\tf_utils.py:492: The name tf.ragged.RaggedTensorValue is deprecated. Please use tf.compat.v1.ragged.RaggedTensorValue instead.\n",
      "\n"
     ]
    },
    {
     "name": "stderr",
     "output_type": "stream",
     "text": [
      "WARNING:tensorflow:From C:\\Users\\Aliaksey\\AppData\\Local\\Programs\\Python\\Python311\\Lib\\site-packages\\keras\\src\\utils\\tf_utils.py:492: The name tf.ragged.RaggedTensorValue is deprecated. Please use tf.compat.v1.ragged.RaggedTensorValue instead.\n",
      "\n"
     ]
    },
    {
     "name": "stdout",
     "output_type": "stream",
     "text": [
      "WARNING:tensorflow:From C:\\Users\\Aliaksey\\AppData\\Local\\Programs\\Python\\Python311\\Lib\\site-packages\\keras\\src\\engine\\base_layer_utils.py:384: The name tf.executing_eagerly_outside_functions is deprecated. Please use tf.compat.v1.executing_eagerly_outside_functions instead.\n",
      "\n"
     ]
    },
    {
     "name": "stderr",
     "output_type": "stream",
     "text": [
      "WARNING:tensorflow:From C:\\Users\\Aliaksey\\AppData\\Local\\Programs\\Python\\Python311\\Lib\\site-packages\\keras\\src\\engine\\base_layer_utils.py:384: The name tf.executing_eagerly_outside_functions is deprecated. Please use tf.compat.v1.executing_eagerly_outside_functions instead.\n",
      "\n"
     ]
    },
    {
     "name": "stdout",
     "output_type": "stream",
     "text": [
      "469/469 [==============================] - 241s 511ms/step - loss: 0.5715 - accuracy: 0.7999 - val_loss: 0.4612 - val_accuracy: 0.8332\n",
      "Epoch 2/10\n",
      "469/469 [==============================] - 288s 614ms/step - loss: 0.4223 - accuracy: 0.8453 - val_loss: 0.4307 - val_accuracy: 0.8473\n",
      "Epoch 3/10\n",
      "469/469 [==============================] - 298s 637ms/step - loss: 0.3870 - accuracy: 0.8574 - val_loss: 0.4049 - val_accuracy: 0.8557\n",
      "Epoch 4/10\n",
      "469/469 [==============================] - 289s 616ms/step - loss: 0.3644 - accuracy: 0.8653 - val_loss: 0.4002 - val_accuracy: 0.8580\n",
      "Epoch 5/10\n",
      "469/469 [==============================] - 290s 618ms/step - loss: 0.3488 - accuracy: 0.8725 - val_loss: 0.3799 - val_accuracy: 0.8664\n",
      "Epoch 6/10\n",
      "469/469 [==============================] - 303s 646ms/step - loss: 0.3354 - accuracy: 0.8763 - val_loss: 0.3810 - val_accuracy: 0.8650\n",
      "Epoch 7/10\n",
      "469/469 [==============================] - 313s 668ms/step - loss: 0.3227 - accuracy: 0.8793 - val_loss: 0.3769 - val_accuracy: 0.8610\n",
      "Epoch 8/10\n",
      "469/469 [==============================] - 314s 670ms/step - loss: 0.3125 - accuracy: 0.8852 - val_loss: 0.3671 - val_accuracy: 0.8704\n",
      "Epoch 9/10\n",
      "469/469 [==============================] - 268s 571ms/step - loss: 0.3029 - accuracy: 0.8883 - val_loss: 0.3683 - val_accuracy: 0.8655\n",
      "Epoch 10/10\n",
      "469/469 [==============================] - 269s 574ms/step - loss: 0.2927 - accuracy: 0.8918 - val_loss: 0.3588 - val_accuracy: 0.8735\n"
     ]
    },
    {
     "data": {
      "text/plain": [
       "<keras.src.callbacks.History at 0x21601320090>"
      ]
     },
     "execution_count": 4,
     "metadata": {},
     "output_type": "execute_result"
    }
   ],
   "source": [
    "x_train_resized = tf.image.resize(x_train, (32, 32))\n",
    "x_test_resized = tf.image.resize(x_test, (32, 32))\n",
    "\n",
    "x_train_resized = tf.tile(x_train_resized, [1, 1, 1, 3])\n",
    "x_test_resized = tf.tile(x_test_resized, [1, 1, 1, 3])\n",
    "\n",
    "# Навчання моделі\n",
    "model.fit(x_train_resized, y_train, batch_size=128, epochs=10, validation_data=(x_test_resized, y_test))"
   ]
  },
  {
   "cell_type": "code",
   "execution_count": 5,
   "id": "cf685ce2-fe11-41f8-bfbe-7b7840d6fd60",
   "metadata": {},
   "outputs": [
    {
     "name": "stdout",
     "output_type": "stream",
     "text": [
      "Test Accuracy: 0.8734999895095825\n"
     ]
    }
   ],
   "source": [
    "# Оцінка моделі на тестових даних\n",
    "test_loss, test_accuracy = model.evaluate(x_test_resized, y_test, verbose=0)\n",
    "print(f\"Test Accuracy: {test_accuracy}\")"
   ]
  },
  {
   "cell_type": "code",
   "execution_count": 6,
   "id": "c9670097-7144-451e-986e-0f61d3da6bfc",
   "metadata": {},
   "outputs": [
    {
     "name": "stdout",
     "output_type": "stream",
     "text": [
      "Epoch 1/5\n",
      "750/750 [==============================] - 224s 297ms/step - loss: 0.9834 - accuracy: 0.7072 - val_loss: 0.6479 - val_accuracy: 0.7843\n",
      "Epoch 2/5\n",
      "750/750 [==============================] - 237s 316ms/step - loss: 0.5805 - accuracy: 0.8016 - val_loss: 0.5514 - val_accuracy: 0.8076\n",
      "Epoch 3/5\n",
      "750/750 [==============================] - 240s 320ms/step - loss: 0.5122 - accuracy: 0.8209 - val_loss: 0.5088 - val_accuracy: 0.8207\n",
      "Epoch 4/5\n",
      "750/750 [==============================] - 240s 321ms/step - loss: 0.4750 - accuracy: 0.8324 - val_loss: 0.4810 - val_accuracy: 0.8270\n",
      "Epoch 5/5\n",
      "750/750 [==============================] - 239s 318ms/step - loss: 0.4516 - accuracy: 0.8393 - val_loss: 0.4611 - val_accuracy: 0.8330\n"
     ]
    }
   ],
   "source": [
    "# Донавчання останніх трьох шарів\n",
    "for i, layer in enumerate(model.layers):\n",
    "    layer._name = 'layer_' + str(i)\n",
    "\n",
    "base_model.trainable = True\n",
    "set_trainable = False\n",
    "for layer in base_model.layers:\n",
    "    if layer.name == \"block5_conv1\":\n",
    "        set_trainable = True\n",
    "    if set_trainable:\n",
    "        layer.trainable = True\n",
    "    else:\n",
    "        layer.trainable = False\n",
    "\n",
    "modified_model = Sequential([\n",
    "   base_model,\n",
    "   Flatten(),\n",
    "   Dense(256, activation=\"relu\"),\n",
    "   Dense(10, activation=\"softmax\"),\n",
    "])\n",
    "\n",
    "# Компіляція моделі\n",
    "modified_model.compile(\n",
    "    optimizer=Adam(learning_rate=0.0001),\n",
    "    loss='categorical_crossentropy',\n",
    "    metrics=['accuracy']\n",
    ")\n",
    "\n",
    "# Зміна розміру вихідних даних до (32, 32)\n",
    "x_train_resized = tf.image.resize(x_train, (32, 32))\n",
    "\n",
    "# Додавання додаткових каналів\n",
    "x_train_resized = tf.tile(x_train_resized, [1, 1, 1, 3])\n",
    "\n",
    "# Навчання моделі\n",
    "history_modified = modified_model.fit(\n",
    "    x_train_resized,\n",
    "    y_train,\n",
    "    epochs=5,\n",
    "    verbose=1,\n",
    "    batch_size=64,\n",
    "    validation_split=0.2\n",
    ")"
   ]
  },
  {
   "cell_type": "code",
   "execution_count": 7,
   "id": "24dcd68c-0626-4a8b-a19f-8a80f3811428",
   "metadata": {},
   "outputs": [
    {
     "name": "stdout",
     "output_type": "stream",
     "text": [
      "Test Accuracy: 0.8373000025749207\n"
     ]
    }
   ],
   "source": [
    "#Оцінка результатів\n",
    "test_loss, test_accuracy = modified_model.evaluate(x_test_resized, y_test, verbose=0)\n",
    "print(f\"Test Accuracy: {test_accuracy}\")"
   ]
  },
  {
   "cell_type": "code",
   "execution_count": 11,
   "id": "85159768-f1f7-4dfd-89f3-c57c01c3c047",
   "metadata": {},
   "outputs": [],
   "source": [
    "Вивід : Порівнюючи звичайну мережу згорткової з мережею згортання, що використовує VGG16 в якості основи, можемо помітити, що звичайна мережа згортання показала більш високу точність. \n",
    "Донавчання не дало підвищення точності моделі."
   ]
  },
  {
   "cell_type": "code",
   "execution_count": null,
   "id": "d37cae0a-1b21-4736-b70e-839dc1255fa1",
   "metadata": {},
   "outputs": [],
   "source": []
  }
 ],
 "metadata": {
  "kernelspec": {
   "display_name": "Python 3 (ipykernel)",
   "language": "python",
   "name": "python3"
  },
  "language_info": {
   "codemirror_mode": {
    "name": "ipython",
    "version": 3
   },
   "file_extension": ".py",
   "mimetype": "text/x-python",
   "name": "python",
   "nbconvert_exporter": "python",
   "pygments_lexer": "ipython3",
   "version": "3.11.2"
  }
 },
 "nbformat": 4,
 "nbformat_minor": 5
}
